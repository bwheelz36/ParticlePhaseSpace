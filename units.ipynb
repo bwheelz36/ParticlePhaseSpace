{
 "cells": [
  {
   "cell_type": "markdown",
   "id": "b8622a6a",
   "metadata": {},
   "source": [
    "# Working with different units\n",
    "\n",
    "You can use a variety of different unit conventions in `ParticlePhaseSpace`. There are a number of unit sets pre programmed, and it's also easy to create your own.\n",
    "\n",
    "## Available units\n",
    "\n",
    "First let's look at what units are currently available:"
   ]
  },
  {
   "cell_type": "code",
   "execution_count": 1,
   "id": "befe1d7f",
   "metadata": {
    "execution": {
     "iopub.execute_input": "2024-06-01T03:06:48.717628Z",
     "iopub.status.busy": "2024-06-01T03:06:48.717062Z",
     "iopub.status.idle": "2024-06-01T03:06:49.754520Z",
     "shell.execute_reply": "2024-06-01T03:06:49.753653Z"
    }
   },
   "outputs": [
    {
     "name": "stdout",
     "output_type": "stream",
     "text": [
      "Available Unit Sets\n",
      "=================\n",
      "cm_MeV:\n",
      "=================\n",
      "Length: cm,\n",
      "Energy: MeV,\n",
      "Momentum: MeV/c\n",
      "Velocity: m/s\n",
      "Mass: MeV/c^2\n",
      "\n",
      "=================\n",
      "m_eV:\n",
      "=================\n",
      "Length: m,\n",
      "Energy: eV,\n",
      "Momentum: eV/c\n",
      "Velocity: m/s\n",
      "Mass: eV/c^2\n",
      "\n",
      "=================\n",
      "mm_MeV:\n",
      "=================\n",
      "Length: mm,\n",
      "Energy: MeV,\n",
      "Momentum: MeV/c\n",
      "Velocity: m/s\n",
      "Mass: MeV/c^2\n",
      "\n",
      "=================\n",
      "p2_sat_UHI:\n",
      "=================\n",
      "Length: um,\n",
      "Energy: MeV,\n",
      "Momentum: MeV/c\n",
      "Velocity: m/s\n",
      "Mass: MeV/c^2\n",
      "\n",
      "=================\n",
      "um_keV:\n",
      "=================\n",
      "Length: um,\n",
      "Energy: keV,\n",
      "Momentum: keV/c\n",
      "Velocity: m/s\n",
      "Mass: keV/c^2\n",
      "\n"
     ]
    }
   ],
   "source": [
    "import sys\n",
    "from pathlib import Path\n",
    "sys.path.append('../')  # not necessary when the library is installed\n",
    "from ParticlePhaseSpace import ParticlePhaseSpaceUnits\n",
    "from ParticlePhaseSpace import DataLoaders\n",
    "from ParticlePhaseSpace import PhaseSpace\n",
    "\n",
    "\n",
    "available_units = ParticlePhaseSpaceUnits()\n",
    "print(available_units)"
   ]
  },
  {
   "cell_type": "markdown",
   "id": "d31be745",
   "metadata": {},
   "source": [
    "From these available units sets, you can pick the one you want like this:"
   ]
  },
  {
   "cell_type": "code",
   "execution_count": 2,
   "id": "20a75e81",
   "metadata": {
    "execution": {
     "iopub.execute_input": "2024-06-01T03:06:49.758622Z",
     "iopub.status.busy": "2024-06-01T03:06:49.758230Z",
     "iopub.status.idle": "2024-06-01T03:06:49.762215Z",
     "shell.execute_reply": "2024-06-01T03:06:49.761400Z"
    }
   },
   "outputs": [],
   "source": [
    "my_units = available_units('mm_MeV')\n",
    "my_units = available_units.mm_MeV  # equivalalent"
   ]
  },
  {
   "cell_type": "markdown",
   "id": "c81e8f5e",
   "metadata": {},
   "source": [
    "You can also easily define new units sets, but we will come to that later.\n",
    "\n",
    "## Setting units at data read in\n",
    "\n",
    "By default, `DataLoaders` use `mm_MeV` as the unit set. If you are reading in data with different untis, you just have to pass a unit set:"
   ]
  },
  {
   "cell_type": "code",
   "execution_count": 3,
   "id": "56d965e9",
   "metadata": {
    "execution": {
     "iopub.execute_input": "2024-06-01T03:06:49.765989Z",
     "iopub.status.busy": "2024-06-01T03:06:49.765718Z",
     "iopub.status.idle": "2024-06-01T03:06:49.931392Z",
     "shell.execute_reply": "2024-06-01T03:06:49.930677Z"
    }
   },
   "outputs": [],
   "source": [
    "different_units = available_units('um_keV')\n",
    "test_data_loc = Path(r'../tests/test_data/coll_PhaseSpace_xAng_0.00_yAng_0.00_angular_error_0.0.phsp').absolute()\n",
    "ps_data = DataLoaders.Load_TopasData(test_data_loc, units=different_units)"
   ]
  },
  {
   "cell_type": "code",
   "execution_count": 4,
   "id": "271e0a4e",
   "metadata": {
    "execution": {
     "iopub.execute_input": "2024-06-01T03:06:49.935399Z",
     "iopub.status.busy": "2024-06-01T03:06:49.935137Z",
     "iopub.status.idle": "2024-06-01T03:06:49.951592Z",
     "shell.execute_reply": "2024-06-01T03:06:49.950844Z"
    }
   },
   "outputs": [
    {
     "data": {
      "text/html": [
       "<div>\n",
       "<style scoped>\n",
       "    .dataframe tbody tr th:only-of-type {\n",
       "        vertical-align: middle;\n",
       "    }\n",
       "\n",
       "    .dataframe tbody tr th {\n",
       "        vertical-align: top;\n",
       "    }\n",
       "\n",
       "    .dataframe thead th {\n",
       "        text-align: right;\n",
       "    }\n",
       "</style>\n",
       "<table border=\"1\" class=\"dataframe\">\n",
       "  <thead>\n",
       "    <tr style=\"text-align: right;\">\n",
       "      <th></th>\n",
       "      <th>particle type [pdg_code]</th>\n",
       "      <th>x [um]</th>\n",
       "      <th>y [um]</th>\n",
       "      <th>z [um]</th>\n",
       "      <th>weight</th>\n",
       "      <th>particle id</th>\n",
       "      <th>time [ps]</th>\n",
       "      <th>px [keV/c]</th>\n",
       "      <th>py [keV/c]</th>\n",
       "      <th>pz [keV/c]</th>\n",
       "    </tr>\n",
       "  </thead>\n",
       "  <tbody>\n",
       "    <tr>\n",
       "      <th>0</th>\n",
       "      <td>22</td>\n",
       "      <td>-0.971177</td>\n",
       "      <td>-0.817280</td>\n",
       "      <td>396.0</td>\n",
       "      <td>0.01</td>\n",
       "      <td>0</td>\n",
       "      <td>0</td>\n",
       "      <td>-0.008856</td>\n",
       "      <td>-0.010509</td>\n",
       "      <td>-3.184060</td>\n",
       "    </tr>\n",
       "    <tr>\n",
       "      <th>1</th>\n",
       "      <td>22</td>\n",
       "      <td>-0.916198</td>\n",
       "      <td>0.839298</td>\n",
       "      <td>396.0</td>\n",
       "      <td>0.01</td>\n",
       "      <td>1</td>\n",
       "      <td>0</td>\n",
       "      <td>-0.003894</td>\n",
       "      <td>0.008249</td>\n",
       "      <td>-1.560114</td>\n",
       "    </tr>\n",
       "    <tr>\n",
       "      <th>2</th>\n",
       "      <td>22</td>\n",
       "      <td>-5.258902</td>\n",
       "      <td>11.318420</td>\n",
       "      <td>396.0</td>\n",
       "      <td>0.01</td>\n",
       "      <td>2</td>\n",
       "      <td>0</td>\n",
       "      <td>-0.193061</td>\n",
       "      <td>0.377104</td>\n",
       "      <td>-1.219742</td>\n",
       "    </tr>\n",
       "    <tr>\n",
       "      <th>3</th>\n",
       "      <td>22</td>\n",
       "      <td>15.326971</td>\n",
       "      <td>-25.628899</td>\n",
       "      <td>396.0</td>\n",
       "      <td>0.01</td>\n",
       "      <td>3</td>\n",
       "      <td>0</td>\n",
       "      <td>0.102889</td>\n",
       "      <td>-0.362594</td>\n",
       "      <td>-1.414843</td>\n",
       "    </tr>\n",
       "    <tr>\n",
       "      <th>4</th>\n",
       "      <td>22</td>\n",
       "      <td>-0.241948</td>\n",
       "      <td>-0.401026</td>\n",
       "      <td>396.0</td>\n",
       "      <td>0.01</td>\n",
       "      <td>4</td>\n",
       "      <td>0</td>\n",
       "      <td>-0.000192</td>\n",
       "      <td>-0.001470</td>\n",
       "      <td>-0.209232</td>\n",
       "    </tr>\n",
       "  </tbody>\n",
       "</table>\n",
       "</div>"
      ],
      "text/plain": [
       "   particle type [pdg_code]     x [um]     y [um]  z [um]  weight  \\\n",
       "0                        22  -0.971177  -0.817280   396.0    0.01   \n",
       "1                        22  -0.916198   0.839298   396.0    0.01   \n",
       "2                        22  -5.258902  11.318420   396.0    0.01   \n",
       "3                        22  15.326971 -25.628899   396.0    0.01   \n",
       "4                        22  -0.241948  -0.401026   396.0    0.01   \n",
       "\n",
       "   particle id  time [ps]  px [keV/c]  py [keV/c]  pz [keV/c]  \n",
       "0            0          0   -0.008856   -0.010509   -3.184060  \n",
       "1            1          0   -0.003894    0.008249   -1.560114  \n",
       "2            2          0   -0.193061    0.377104   -1.219742  \n",
       "3            3          0    0.102889   -0.362594   -1.414843  \n",
       "4            4          0   -0.000192   -0.001470   -0.209232  "
      ]
     },
     "execution_count": 4,
     "metadata": {},
     "output_type": "execute_result"
    }
   ],
   "source": [
    "ps_data.data.head()"
   ]
  },
  {
   "cell_type": "markdown",
   "id": "dfaeea09",
   "metadata": {},
   "source": [
    "Note that this step does not convert any of the numbers in the data; it simply defines what units these numbers represent. When we pass the `DataLoader` to `PhaseSpace`, the units are preserved:"
   ]
  },
  {
   "cell_type": "code",
   "execution_count": 5,
   "id": "f0170d69",
   "metadata": {
    "execution": {
     "iopub.execute_input": "2024-06-01T03:06:49.955146Z",
     "iopub.status.busy": "2024-06-01T03:06:49.954868Z",
     "iopub.status.idle": "2024-06-01T03:06:49.979532Z",
     "shell.execute_reply": "2024-06-01T03:06:49.978291Z"
    }
   },
   "outputs": [
    {
     "data": {
      "text/plain": [
       "um_keV:\n",
       "=================\n",
       "Length: um,\n",
       "Energy: keV,\n",
       "Momentum: keV/c\n",
       "Velocity: m/s\n",
       "Mass: keV/c^2"
      ]
     },
     "execution_count": 5,
     "metadata": {},
     "output_type": "execute_result"
    }
   ],
   "source": [
    "PS = PhaseSpace(ps_data)\n",
    "PS.get_units()"
   ]
  },
  {
   "cell_type": "code",
   "execution_count": 6,
   "id": "2cf5b1e8",
   "metadata": {
    "execution": {
     "iopub.execute_input": "2024-06-01T03:06:49.983239Z",
     "iopub.status.busy": "2024-06-01T03:06:49.982931Z",
     "iopub.status.idle": "2024-06-01T03:06:50.001729Z",
     "shell.execute_reply": "2024-06-01T03:06:50.000650Z"
    }
   },
   "outputs": [
    {
     "data": {
      "text/html": [
       "<div>\n",
       "<style scoped>\n",
       "    .dataframe tbody tr th:only-of-type {\n",
       "        vertical-align: middle;\n",
       "    }\n",
       "\n",
       "    .dataframe tbody tr th {\n",
       "        vertical-align: top;\n",
       "    }\n",
       "\n",
       "    .dataframe thead th {\n",
       "        text-align: right;\n",
       "    }\n",
       "</style>\n",
       "<table border=\"1\" class=\"dataframe\">\n",
       "  <thead>\n",
       "    <tr style=\"text-align: right;\">\n",
       "      <th></th>\n",
       "      <th>particle type [pdg_code]</th>\n",
       "      <th>x [um]</th>\n",
       "      <th>y [um]</th>\n",
       "      <th>z [um]</th>\n",
       "      <th>weight</th>\n",
       "      <th>particle id</th>\n",
       "      <th>time [ps]</th>\n",
       "      <th>px [keV/c]</th>\n",
       "      <th>py [keV/c]</th>\n",
       "      <th>pz [keV/c]</th>\n",
       "    </tr>\n",
       "  </thead>\n",
       "  <tbody>\n",
       "    <tr>\n",
       "      <th>0</th>\n",
       "      <td>22</td>\n",
       "      <td>-0.971177</td>\n",
       "      <td>-0.817280</td>\n",
       "      <td>396.0</td>\n",
       "      <td>0.01</td>\n",
       "      <td>0</td>\n",
       "      <td>0</td>\n",
       "      <td>-0.008856</td>\n",
       "      <td>-0.010509</td>\n",
       "      <td>-3.184060</td>\n",
       "    </tr>\n",
       "    <tr>\n",
       "      <th>1</th>\n",
       "      <td>22</td>\n",
       "      <td>-0.916198</td>\n",
       "      <td>0.839298</td>\n",
       "      <td>396.0</td>\n",
       "      <td>0.01</td>\n",
       "      <td>1</td>\n",
       "      <td>0</td>\n",
       "      <td>-0.003894</td>\n",
       "      <td>0.008249</td>\n",
       "      <td>-1.560114</td>\n",
       "    </tr>\n",
       "    <tr>\n",
       "      <th>2</th>\n",
       "      <td>22</td>\n",
       "      <td>-5.258902</td>\n",
       "      <td>11.318420</td>\n",
       "      <td>396.0</td>\n",
       "      <td>0.01</td>\n",
       "      <td>2</td>\n",
       "      <td>0</td>\n",
       "      <td>-0.193061</td>\n",
       "      <td>0.377104</td>\n",
       "      <td>-1.219742</td>\n",
       "    </tr>\n",
       "    <tr>\n",
       "      <th>3</th>\n",
       "      <td>22</td>\n",
       "      <td>15.326971</td>\n",
       "      <td>-25.628899</td>\n",
       "      <td>396.0</td>\n",
       "      <td>0.01</td>\n",
       "      <td>3</td>\n",
       "      <td>0</td>\n",
       "      <td>0.102889</td>\n",
       "      <td>-0.362594</td>\n",
       "      <td>-1.414843</td>\n",
       "    </tr>\n",
       "    <tr>\n",
       "      <th>4</th>\n",
       "      <td>22</td>\n",
       "      <td>-0.241948</td>\n",
       "      <td>-0.401026</td>\n",
       "      <td>396.0</td>\n",
       "      <td>0.01</td>\n",
       "      <td>4</td>\n",
       "      <td>0</td>\n",
       "      <td>-0.000192</td>\n",
       "      <td>-0.001470</td>\n",
       "      <td>-0.209232</td>\n",
       "    </tr>\n",
       "  </tbody>\n",
       "</table>\n",
       "</div>"
      ],
      "text/plain": [
       "   particle type [pdg_code]     x [um]     y [um]  z [um]  weight  \\\n",
       "0                        22  -0.971177  -0.817280   396.0    0.01   \n",
       "1                        22  -0.916198   0.839298   396.0    0.01   \n",
       "2                        22  -5.258902  11.318420   396.0    0.01   \n",
       "3                        22  15.326971 -25.628899   396.0    0.01   \n",
       "4                        22  -0.241948  -0.401026   396.0    0.01   \n",
       "\n",
       "   particle id  time [ps]  px [keV/c]  py [keV/c]  pz [keV/c]  \n",
       "0            0          0   -0.008856   -0.010509   -3.184060  \n",
       "1            1          0   -0.003894    0.008249   -1.560114  \n",
       "2            2          0   -0.193061    0.377104   -1.219742  \n",
       "3            3          0    0.102889   -0.362594   -1.414843  \n",
       "4            4          0   -0.000192   -0.001470   -0.209232  "
      ]
     },
     "execution_count": 6,
     "metadata": {},
     "output_type": "execute_result"
    }
   ],
   "source": [
    "PS.ps_data.head()"
   ]
  },
  {
   "cell_type": "markdown",
   "id": "7aa18e28",
   "metadata": {},
   "source": [
    "## Changing units after read in\n",
    "\n",
    "Let'read in the data again, this time with the correct unit set (`mm_MeV`):"
   ]
  },
  {
   "cell_type": "code",
   "execution_count": 7,
   "id": "37d03d48",
   "metadata": {
    "execution": {
     "iopub.execute_input": "2024-06-01T03:06:50.006535Z",
     "iopub.status.busy": "2024-06-01T03:06:50.005756Z",
     "iopub.status.idle": "2024-06-01T03:06:50.175426Z",
     "shell.execute_reply": "2024-06-01T03:06:50.174387Z"
    }
   },
   "outputs": [
    {
     "data": {
      "text/plain": [
       "mm_MeV:\n",
       "=================\n",
       "Length: mm,\n",
       "Energy: MeV,\n",
       "Momentum: MeV/c\n",
       "Velocity: m/s\n",
       "Mass: MeV/c^2"
      ]
     },
     "execution_count": 7,
     "metadata": {},
     "output_type": "execute_result"
    }
   ],
   "source": [
    "ps_data = DataLoaders.Load_TopasData(test_data_loc)\n",
    "PS = PhaseSpace(ps_data)\n",
    "PS.get_units()"
   ]
  },
  {
   "cell_type": "markdown",
   "id": "f3fdb0a3",
   "metadata": {},
   "source": [
    "We can now change the units using the `set_units` method:"
   ]
  },
  {
   "cell_type": "code",
   "execution_count": 8,
   "id": "b25584ff",
   "metadata": {
    "execution": {
     "iopub.execute_input": "2024-06-01T03:06:50.179168Z",
     "iopub.status.busy": "2024-06-01T03:06:50.178872Z",
     "iopub.status.idle": "2024-06-01T03:06:50.196096Z",
     "shell.execute_reply": "2024-06-01T03:06:50.195055Z"
    }
   },
   "outputs": [
    {
     "data": {
      "text/plain": [
       "um_keV:\n",
       "=================\n",
       "Length: um,\n",
       "Energy: keV,\n",
       "Momentum: keV/c\n",
       "Velocity: m/s\n",
       "Mass: keV/c^2"
      ]
     },
     "execution_count": 8,
     "metadata": {},
     "output_type": "execute_result"
    }
   ],
   "source": [
    "PS.set_units(different_units)\n",
    "PS.get_units()"
   ]
  },
  {
   "cell_type": "code",
   "execution_count": 9,
   "id": "6a2e0cd7",
   "metadata": {
    "execution": {
     "iopub.execute_input": "2024-06-01T03:06:50.199850Z",
     "iopub.status.busy": "2024-06-01T03:06:50.199616Z",
     "iopub.status.idle": "2024-06-01T03:06:50.213580Z",
     "shell.execute_reply": "2024-06-01T03:06:50.212569Z"
    }
   },
   "outputs": [
    {
     "data": {
      "text/html": [
       "<div>\n",
       "<style scoped>\n",
       "    .dataframe tbody tr th:only-of-type {\n",
       "        vertical-align: middle;\n",
       "    }\n",
       "\n",
       "    .dataframe tbody tr th {\n",
       "        vertical-align: top;\n",
       "    }\n",
       "\n",
       "    .dataframe thead th {\n",
       "        text-align: right;\n",
       "    }\n",
       "</style>\n",
       "<table border=\"1\" class=\"dataframe\">\n",
       "  <thead>\n",
       "    <tr style=\"text-align: right;\">\n",
       "      <th></th>\n",
       "      <th>particle type [pdg_code]</th>\n",
       "      <th>x [um]</th>\n",
       "      <th>y [um]</th>\n",
       "      <th>z [um]</th>\n",
       "      <th>weight</th>\n",
       "      <th>particle id</th>\n",
       "      <th>time [ps]</th>\n",
       "      <th>px [keV/c]</th>\n",
       "      <th>py [keV/c]</th>\n",
       "      <th>pz [keV/c]</th>\n",
       "    </tr>\n",
       "  </thead>\n",
       "  <tbody>\n",
       "    <tr>\n",
       "      <th>0</th>\n",
       "      <td>22</td>\n",
       "      <td>-971.176758</td>\n",
       "      <td>-817.280090</td>\n",
       "      <td>396000.0</td>\n",
       "      <td>0.01</td>\n",
       "      <td>0</td>\n",
       "      <td>0.0</td>\n",
       "      <td>-8.855738</td>\n",
       "      <td>-10.508804</td>\n",
       "      <td>-3184.060481</td>\n",
       "    </tr>\n",
       "    <tr>\n",
       "      <th>1</th>\n",
       "      <td>22</td>\n",
       "      <td>-916.197754</td>\n",
       "      <td>839.297668</td>\n",
       "      <td>396000.0</td>\n",
       "      <td>0.01</td>\n",
       "      <td>1</td>\n",
       "      <td>0.0</td>\n",
       "      <td>-3.894435</td>\n",
       "      <td>8.249210</td>\n",
       "      <td>-1560.114059</td>\n",
       "    </tr>\n",
       "    <tr>\n",
       "      <th>2</th>\n",
       "      <td>22</td>\n",
       "      <td>-5258.901367</td>\n",
       "      <td>11318.419922</td>\n",
       "      <td>396000.0</td>\n",
       "      <td>0.01</td>\n",
       "      <td>2</td>\n",
       "      <td>0.0</td>\n",
       "      <td>-193.061367</td>\n",
       "      <td>377.103855</td>\n",
       "      <td>-1219.741850</td>\n",
       "    </tr>\n",
       "    <tr>\n",
       "      <th>3</th>\n",
       "      <td>22</td>\n",
       "      <td>15326.970703</td>\n",
       "      <td>-25628.898438</td>\n",
       "      <td>396000.0</td>\n",
       "      <td>0.01</td>\n",
       "      <td>3</td>\n",
       "      <td>0.0</td>\n",
       "      <td>102.888760</td>\n",
       "      <td>-362.594239</td>\n",
       "      <td>-1414.843426</td>\n",
       "    </tr>\n",
       "    <tr>\n",
       "      <th>4</th>\n",
       "      <td>22</td>\n",
       "      <td>-241.947769</td>\n",
       "      <td>-401.025604</td>\n",
       "      <td>396000.0</td>\n",
       "      <td>0.01</td>\n",
       "      <td>4</td>\n",
       "      <td>0.0</td>\n",
       "      <td>-0.191501</td>\n",
       "      <td>-1.469658</td>\n",
       "      <td>-209.231939</td>\n",
       "    </tr>\n",
       "  </tbody>\n",
       "</table>\n",
       "</div>"
      ],
      "text/plain": [
       "   particle type [pdg_code]        x [um]        y [um]    z [um]  weight  \\\n",
       "0                        22   -971.176758   -817.280090  396000.0    0.01   \n",
       "1                        22   -916.197754    839.297668  396000.0    0.01   \n",
       "2                        22  -5258.901367  11318.419922  396000.0    0.01   \n",
       "3                        22  15326.970703 -25628.898438  396000.0    0.01   \n",
       "4                        22   -241.947769   -401.025604  396000.0    0.01   \n",
       "\n",
       "   particle id  time [ps]  px [keV/c]  py [keV/c]   pz [keV/c]  \n",
       "0            0        0.0   -8.855738  -10.508804 -3184.060481  \n",
       "1            1        0.0   -3.894435    8.249210 -1560.114059  \n",
       "2            2        0.0 -193.061367  377.103855 -1219.741850  \n",
       "3            3        0.0  102.888760 -362.594239 -1414.843426  \n",
       "4            4        0.0   -0.191501   -1.469658  -209.231939  "
      ]
     },
     "execution_count": 9,
     "metadata": {},
     "output_type": "execute_result"
    }
   ],
   "source": [
    "PS.ps_data.head()"
   ]
  },
  {
   "cell_type": "markdown",
   "id": "4e8a7b90",
   "metadata": {},
   "source": [
    "Note that this time, the actual values in the data **have** changed. Also note that all labels in graphs are automaticall updated, e.g.:"
   ]
  },
  {
   "cell_type": "code",
   "execution_count": 10,
   "id": "78f4b114",
   "metadata": {
    "execution": {
     "iopub.execute_input": "2024-06-01T03:06:50.217739Z",
     "iopub.status.busy": "2024-06-01T03:06:50.217271Z",
     "iopub.status.idle": "2024-06-01T03:06:51.057920Z",
     "shell.execute_reply": "2024-06-01T03:06:51.056901Z"
    }
   },
   "outputs": [
    {
     "data": {
      "image/png": "[encoded data removed]",
      "text/plain": [
       "<Figure size 640x480 with 1 Axes>"
      ]
     },
     "metadata": {},
     "output_type": "display_data"
    }
   ],
   "source": [
    "PS.plot.energy_hist_1D()"
   ]
  },
  {
   "cell_type": "markdown",
   "id": "5dad84b7",
   "metadata": {},
   "source": [
    "Whenever you use the `set_units` method, the data will be reset using the `reset_phase_space` method. This means the data is reduced to only the [required columns](https://bwheelz36.github.io/ParticlePhaseSpace/phase_space_format.html), so that any other quantities must be recalculated following a unit change\n",
    "\n",
    "## Defining new unit sets\n",
    "\n",
    "If the unit set you want to work with is not already listed in the `available_units` above, you can easily create new unit sets.\n",
    "The **highly** advised way to do this is to add your new unit set to the `__init__` method of `ParticlePhaseSpace.__unit_config__.ParticlePhaseSpaceUnits` by copying then updating the definition of the existing unit_sets. This is because unit sets defined in this way are subject to automatic testing to ensure for instance consistency between dimensionless quantities. However, if you really want you can also do it manually as below. Note that this is not the preferred method but it will work!"
   ]
  },
  {
   "cell_type": "code",
   "execution_count": 11,
   "id": "b05adbdb",
   "metadata": {
    "execution": {
     "iopub.execute_input": "2024-06-01T03:06:51.061741Z",
     "iopub.status.busy": "2024-06-01T03:06:51.061483Z",
     "iopub.status.idle": "2024-06-01T03:06:51.067539Z",
     "shell.execute_reply": "2024-06-01T03:06:51.066682Z"
    }
   },
   "outputs": [
    {
     "name": "stdout",
     "output_type": "stream",
     "text": [
      "cm_keV:\n",
      "=================\n",
      "Length: cm,\n",
      "Energy: keV,\n",
      "Momentum: keV/c\n",
      "Velocity: kmph\n",
      "Mass: keV/c^2\n"
     ]
    }
   ],
   "source": [
    "from ParticlePhaseSpace.__unit_config__ import UnitSet, _unit\n",
    "cm_keV = UnitSet(label='cm_keV',\n",
    "                              length_units=_unit('cm', 1e-1),\n",
    "                              energy_units=_unit('keV', 1e3),\n",
    "                              momentum_units=_unit('keV/c', 1e3),\n",
    "                              time_units=_unit('ns', 1e-3),\n",
    "                              mass_units=_unit('keV/c^2', 1e3),\n",
    "                              velocity_units=_unit('kmph', 1/3.6))\n",
    "print(cm_keV)"
   ]
  },
  {
   "cell_type": "markdown",
   "id": "7cf344e7",
   "metadata": {},
   "source": [
    "- In a `UnitSet`, the `label` tag is the name of the UnitSet and is mainly used internally to compare unit sets.\n",
    "- every other quantity is a `_unit` - each `_unit` comprises a label and a conversion factor. the label is self explanatory. THe conversion factor is the converion which would be needed to convert that quantity to the default unit set of `mm_MeV`. For example, the cm to mm conversion is defined as:"
   ]
  },
  {
   "cell_type": "code",
   "execution_count": 12,
   "id": "2516705a",
   "metadata": {
    "execution": {
     "iopub.execute_input": "2024-06-01T03:06:51.071140Z",
     "iopub.status.busy": "2024-06-01T03:06:51.070871Z",
     "iopub.status.idle": "2024-06-01T03:06:51.074884Z",
     "shell.execute_reply": "2024-06-01T03:06:51.074093Z"
    }
   },
   "outputs": [],
   "source": [
    "value_in_mm = 1\n",
    "value_in_cm = .1\n",
    "cm_conversion = value_in_cm/value_in_mm"
   ]
  },
  {
   "cell_type": "markdown",
   "id": "902000bc",
   "metadata": {},
   "source": [
    "> Be very careful about defining unit sets that don't match the conventions of the existing unit sets. The units will defintely work as long as you are changing the **value** of a given unit type, but not if you completely change the type of unit. E.g., defining mass in kg instead of some form of eV/c^2 will not work without substantialy edits to the code."
   ]
  },
  {
   "cell_type": "code",
   "execution_count": null,
   "id": "a2ac0dd6",
   "metadata": {},
   "outputs": [],
   "source": []
  }
 ],
 "metadata": {
  "kernelspec": {
   "display_name": "Python 3 (ipykernel)",
   "language": "python",
   "name": "python3"
  },
  "language_info": {
   "codemirror_mode": {
    "name": "ipython",
    "version": 3
   },
   "file_extension": ".py",
   "mimetype": "text/x-python",
   "name": "python",
   "nbconvert_exporter": "python",
   "pygments_lexer": "ipython3",
   "version": "3.9.18"
  }
 },
 "nbformat": 4,
 "nbformat_minor": 5
}
